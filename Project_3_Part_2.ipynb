{
  "cells": [
    {
      "cell_type": "markdown",
      "metadata": {
        "id": "view-in-github",
        "colab_type": "text"
      },
      "source": [
        "<a href=\"https://colab.research.google.com/github/Issey2023/Data-Enrichment-Project-3/blob/main/Project_3_Part_2.ipynb\" target=\"_parent\"><img src=\"https://colab.research.google.com/assets/colab-badge.svg\" alt=\"Open In Colab\"/></a>"
      ]
    },
    {
      "cell_type": "code",
      "execution_count": null,
      "id": "b0f19733",
      "metadata": {
        "id": "b0f19733"
      },
      "outputs": [],
      "source": [
        "import json\n",
        "import tmdbsimple as tmdb\n",
        "import pandas as pd\n",
        "import numpy as np\n",
        "import matplotlib.pyplot as plt\n",
        "import seaborn as sns\n",
        "from tqdm.notebook import tqdm_notebook"
      ]
    },
    {
      "cell_type": "code",
      "execution_count": null,
      "id": "c66202ed",
      "metadata": {
        "id": "c66202ed",
        "outputId": "a891b294-1871-460a-a11b-732bc95ce8e1"
      },
      "outputs": [
        {
          "data": {
            "text/plain": [
              "dict_keys(['api-key'])"
            ]
          },
          "execution_count": 2,
          "metadata": {},
          "output_type": "execute_result"
        }
      ],
      "source": [
        "with open('/Users/ihen85/.secret/tmdb_api.json', 'r') as f:\n",
        "    login = json.load(f)\n",
        "login.keys()"
      ]
    },
    {
      "cell_type": "code",
      "execution_count": null,
      "id": "3e870711",
      "metadata": {
        "id": "3e870711"
      },
      "outputs": [],
      "source": [
        "tmdb.API_KEY =  login['api-key']"
      ]
    },
    {
      "cell_type": "code",
      "execution_count": null,
      "id": "e53976f4",
      "metadata": {
        "id": "e53976f4"
      },
      "outputs": [],
      "source": [
        "movies = tmdb.Movies(603)"
      ]
    },
    {
      "cell_type": "code",
      "execution_count": null,
      "id": "15873c41",
      "metadata": {
        "id": "15873c41",
        "outputId": "59283a94-c535-42ab-c9d9-bcd2ef7858c0"
      },
      "outputs": [
        {
          "data": {
            "text/plain": [
              "{'adult': False,\n",
              " 'backdrop_path': '/l4QHerTSbMI7qgvasqxP36pqjN6.jpg',\n",
              " 'belongs_to_collection': {'id': 2344,\n",
              "  'name': 'The Matrix Collection',\n",
              "  'poster_path': '/bV9qTVHTVf0gkW0j7p7M0ILD4pG.jpg',\n",
              "  'backdrop_path': '/bRm2DEgUiYciDw3myHuYFInD7la.jpg'},\n",
              " 'budget': 63000000,\n",
              " 'genres': [{'id': 28, 'name': 'Action'},\n",
              "  {'id': 878, 'name': 'Science Fiction'}],\n",
              " 'homepage': 'http://www.warnerbros.com/matrix',\n",
              " 'id': 603,\n",
              " 'imdb_id': 'tt0133093',\n",
              " 'original_language': 'en',\n",
              " 'original_title': 'The Matrix',\n",
              " 'overview': 'Set in the 22nd century, The Matrix tells the story of a computer hacker who joins a group of underground insurgents fighting the vast and powerful computers who now rule the earth.',\n",
              " 'popularity': 59.542,\n",
              " 'poster_path': '/f89U3ADr1oiB1s9GkdPOEpXUk5H.jpg',\n",
              " 'production_companies': [{'id': 79,\n",
              "   'logo_path': '/tpFpsqbleCzEE2p5EgvUq6ozfCA.png',\n",
              "   'name': 'Village Roadshow Pictures',\n",
              "   'origin_country': 'US'},\n",
              "  {'id': 174,\n",
              "   'logo_path': '/IuAlhI9eVC9Z8UQWOIDdWRKSEJ.png',\n",
              "   'name': 'Warner Bros. Pictures',\n",
              "   'origin_country': 'US'},\n",
              "  {'id': 372,\n",
              "   'logo_path': None,\n",
              "   'name': 'Groucho II Film Partnership',\n",
              "   'origin_country': ''},\n",
              "  {'id': 1885,\n",
              "   'logo_path': '/tXMFoE8AtNdnFzWOW0aCLwl7xxS.png',\n",
              "   'name': 'Silver Pictures',\n",
              "   'origin_country': 'US'}],\n",
              " 'production_countries': [{'iso_3166_1': 'US',\n",
              "   'name': 'United States of America'}],\n",
              " 'release_date': '1999-03-30',\n",
              " 'revenue': 463517383,\n",
              " 'runtime': 136,\n",
              " 'spoken_languages': [{'english_name': 'English',\n",
              "   'iso_639_1': 'en',\n",
              "   'name': 'English'}],\n",
              " 'status': 'Released',\n",
              " 'tagline': 'Welcome to the Real World.',\n",
              " 'title': 'The Matrix',\n",
              " 'video': False,\n",
              " 'vote_average': 8.193,\n",
              " 'vote_count': 22298}"
            ]
          },
          "execution_count": 5,
          "metadata": {},
          "output_type": "execute_result"
        }
      ],
      "source": [
        "info = movies.info()\n",
        "info"
      ]
    },
    {
      "cell_type": "code",
      "execution_count": null,
      "id": "d80020fa",
      "metadata": {
        "id": "d80020fa",
        "outputId": "92c7939a-960e-44ed-c6b7-bbedb9690e7f"
      },
      "outputs": [
        {
          "data": {
            "text/plain": [
              "63000000"
            ]
          },
          "execution_count": 6,
          "metadata": {},
          "output_type": "execute_result"
        }
      ],
      "source": [
        "info['budget']"
      ]
    },
    {
      "cell_type": "code",
      "execution_count": null,
      "id": "fbfe938f",
      "metadata": {
        "id": "fbfe938f",
        "outputId": "90dbd9f7-ec9a-46b5-f9d1-8df5ced59d10"
      },
      "outputs": [
        {
          "data": {
            "text/plain": [
              "463517383"
            ]
          },
          "execution_count": 7,
          "metadata": {},
          "output_type": "execute_result"
        }
      ],
      "source": [
        "info['revenue']"
      ]
    },
    {
      "cell_type": "code",
      "execution_count": null,
      "id": "4135737c",
      "metadata": {
        "id": "4135737c",
        "outputId": "e5605bcd-53a6-45df-8648-5d2e36a57a20"
      },
      "outputs": [
        {
          "data": {
            "text/plain": [
              "'tt0133093'"
            ]
          },
          "execution_count": 8,
          "metadata": {},
          "output_type": "execute_result"
        }
      ],
      "source": [
        "info['imdb_id']"
      ]
    },
    {
      "cell_type": "code",
      "execution_count": null,
      "id": "def8142b",
      "metadata": {
        "id": "def8142b",
        "outputId": "771098bc-e4aa-4f9b-d4b6-b831b07e761e"
      },
      "outputs": [
        {
          "data": {
            "text/plain": [
              "50000000"
            ]
          },
          "execution_count": 9,
          "metadata": {},
          "output_type": "execute_result"
        }
      ],
      "source": [
        "movie = tmdb.Movies('tt1361336')\n",
        "info = movie.info()\n",
        "info['budget']"
      ]
    },
    {
      "cell_type": "code",
      "execution_count": null,
      "id": "0a4bdfb7",
      "metadata": {
        "id": "0a4bdfb7",
        "outputId": "f0b4b921-7c8f-4fd2-abe0-7452a772e3e1"
      },
      "outputs": [
        {
          "name": "stdout",
          "output_type": "stream",
          "text": [
            "PG\n",
            "PG\n",
            "PG\n"
          ]
        }
      ],
      "source": [
        "# example from package README\n",
        "# source = https://github.com/celiao/tmdbsimple\n",
        "response = movie.releases()\n",
        "for c in movie.countries:\n",
        "    if c['iso_3166_1'] == 'US':\n",
        "        print(c['certification'])"
      ]
    },
    {
      "cell_type": "code",
      "execution_count": null,
      "id": "c92532a8",
      "metadata": {
        "id": "c92532a8"
      },
      "outputs": [],
      "source": [
        "# Get the movie object for the current id\n",
        "movie = tmdb.Movies('tt1361336')\n",
        "# save the .info .releases dictionaries\n",
        "info = movie.info()\n",
        "releases = movie.releases()\n",
        "# Loop through countries in releases\n",
        "for c in releases['countries']:\n",
        "    # if the country abbreviation==US\n",
        "    if c['iso_3166_1' ] =='US':\n",
        "        ## save a \"certification\" key in the info dict with the certification\n",
        "       info['certification'] = c['certification']"
      ]
    },
    {
      "cell_type": "code",
      "execution_count": null,
      "id": "8a9fbe0a",
      "metadata": {
        "id": "8a9fbe0a"
      },
      "outputs": [],
      "source": [
        "def get_movie_with_rating(movie_id):\n",
        "    \"\"\"Adapted from source = https://github.com/celiao/tmdbsimple\"\"\"\n",
        "    #get the movie object for the current it\n",
        "    movie = tmdb.Movies(movie_id)\n",
        "\n",
        "    #save the .info .releases dictionaries\n",
        "    info = movie.info()\n",
        "    releases = movie.releases()\n",
        "    # loop through countries in releases\n",
        "    for c in releases['countries']:\n",
        "        # if the counrty abbre ==US\n",
        "        if c['iso_3166_1'] == 'US':\n",
        "            ## save a certification key in info with the certifications\n",
        "            info['certification'] = c['certification']\n",
        "    return info"
      ]
    },
    {
      "cell_type": "code",
      "execution_count": null,
      "id": "cf3d81d8",
      "metadata": {
        "id": "cf3d81d8",
        "outputId": "b7d62688-a4e3-4a1e-a78b-5bfe8c261114"
      },
      "outputs": [
        {
          "data": {
            "text/plain": [
              "{'adult': False,\n",
              " 'backdrop_path': '/9BBTo63ANSmhC4e6r62OJFuK2GL.jpg',\n",
              " 'belongs_to_collection': {'id': 86311,\n",
              "  'name': 'The Avengers Collection',\n",
              "  'poster_path': '/yFSIUVTCvgYrpalUktulvk3Gi5Y.jpg',\n",
              "  'backdrop_path': '/zuW6fOiusv4X9nnW3paHGfXcSll.jpg'},\n",
              " 'budget': 220000000,\n",
              " 'genres': [{'id': 878, 'name': 'Science Fiction'},\n",
              "  {'id': 28, 'name': 'Action'},\n",
              "  {'id': 12, 'name': 'Adventure'}],\n",
              " 'homepage': 'https://www.marvel.com/movies/the-avengers',\n",
              " 'id': 24428,\n",
              " 'imdb_id': 'tt0848228',\n",
              " 'original_language': 'en',\n",
              " 'original_title': 'The Avengers',\n",
              " 'overview': 'When an unexpected enemy emerges and threatens global safety and security, Nick Fury, director of the international peacekeeping agency known as S.H.I.E.L.D., finds himself in need of a team to pull the world back from the brink of disaster. Spanning the globe, a daring recruitment effort begins!',\n",
              " 'popularity': 221.907,\n",
              " 'poster_path': '/RYMX2wcKCBAr24UyPD7xwmjaTn.jpg',\n",
              " 'production_companies': [{'id': 420,\n",
              "   'logo_path': '/hUzeosd33nzE5MCNsZxCGEKTXaQ.png',\n",
              "   'name': 'Marvel Studios',\n",
              "   'origin_country': 'US'}],\n",
              " 'production_countries': [{'iso_3166_1': 'US',\n",
              "   'name': 'United States of America'}],\n",
              " 'release_date': '2012-04-25',\n",
              " 'revenue': 1518815515,\n",
              " 'runtime': 143,\n",
              " 'spoken_languages': [{'english_name': 'English',\n",
              "   'iso_639_1': 'en',\n",
              "   'name': 'English'},\n",
              "  {'english_name': 'Hindi', 'iso_639_1': 'hi', 'name': 'हिन्दी'},\n",
              "  {'english_name': 'Russian', 'iso_639_1': 'ru', 'name': 'Pусский'}],\n",
              " 'status': 'Released',\n",
              " 'tagline': 'Some assembly required.',\n",
              " 'title': 'The Avengers',\n",
              " 'video': False,\n",
              " 'vote_average': 7.707,\n",
              " 'vote_count': 27717,\n",
              " 'certification': 'PG-13'}"
            ]
          },
          "execution_count": 13,
          "metadata": {},
          "output_type": "execute_result"
        }
      ],
      "source": [
        "test = get_movie_with_rating(\"tt0848228\") #put your function name here\n",
        "test"
      ]
    },
    {
      "cell_type": "code",
      "execution_count": null,
      "id": "1a4aac1b",
      "metadata": {
        "id": "1a4aac1b",
        "outputId": "c3d183dd-2222-4640-9830-98d2358a6124"
      },
      "outputs": [
        {
          "data": {
            "text/plain": [
              "{'adult': False,\n",
              " 'backdrop_path': '/qom1SZSENdmHFNZBXbtJAU0WTlC.jpg',\n",
              " 'belongs_to_collection': None,\n",
              " 'budget': 29000000,\n",
              " 'genres': [{'id': 10749, 'name': 'Romance'}, {'id': 18, 'name': 'Drama'}],\n",
              " 'homepage': 'http://www.newline.com/properties/notebookthe.html',\n",
              " 'id': 11036,\n",
              " 'imdb_id': 'tt0332280',\n",
              " 'original_language': 'en',\n",
              " 'original_title': 'The Notebook',\n",
              " 'overview': \"An epic love story centered around an older man who reads aloud to a woman with Alzheimer's. From a faded notebook, the old man's words bring to life the story about a couple who is separated by World War II, and is then passionately reunited, seven years later, after they have taken different paths.\",\n",
              " 'popularity': 62.882,\n",
              " 'poster_path': '/rNzQyW4f8B8cQeg7Dgj3n6eT5k9.jpg',\n",
              " 'production_companies': [{'id': 12,\n",
              "   'logo_path': '/iaYpEp3LQmb8AfAtmTvpqd4149c.png',\n",
              "   'name': 'New Line Cinema',\n",
              "   'origin_country': 'US'},\n",
              "  {'id': 1565, 'logo_path': None, 'name': 'Avery Pix', 'origin_country': 'US'},\n",
              "  {'id': 2605,\n",
              "   'logo_path': None,\n",
              "   'name': 'Gran Via Productions',\n",
              "   'origin_country': 'US'}],\n",
              " 'production_countries': [{'iso_3166_1': 'US',\n",
              "   'name': 'United States of America'}],\n",
              " 'release_date': '2004-06-25',\n",
              " 'revenue': 115603229,\n",
              " 'runtime': 123,\n",
              " 'spoken_languages': [{'english_name': 'English',\n",
              "   'iso_639_1': 'en',\n",
              "   'name': 'English'}],\n",
              " 'status': 'Released',\n",
              " 'tagline': 'Behind every great love is a great story.',\n",
              " 'title': 'The Notebook',\n",
              " 'video': False,\n",
              " 'vote_average': 7.9,\n",
              " 'vote_count': 9897,\n",
              " 'certification': 'PG-13'}"
            ]
          },
          "execution_count": 14,
          "metadata": {},
          "output_type": "execute_result"
        }
      ],
      "source": [
        "test2 = get_movie_with_rating(\"tt0332280\")\n",
        "test2"
      ]
    },
    {
      "cell_type": "code",
      "execution_count": null,
      "id": "2c3f8bda",
      "metadata": {
        "id": "2c3f8bda",
        "outputId": "3d9bafe4-c67d-439d-a09a-78a98760d8a5"
      },
      "outputs": [
        {
          "data": {
            "text/plain": [
              "['final_tmdb_data_-20.csv.gz',\n",
              " 'final_tmdb_data_2000.csv.gz',\n",
              " 'final_tmdb_data_2001.csv.gz',\n",
              " 'final_tmdb_data_False.csv.gz',\n",
              " 'title_akas.csv.gz',\n",
              " 'title_basics.csv.gz',\n",
              " 'title_ratings.csv.gz',\n",
              " 'tmdb_api_results_-20.json',\n",
              " 'tmdb_api_results_2000.json',\n",
              " 'tmdb_api_results_2001.json',\n",
              " 'tmdb_api_results_2005.json',\n",
              " 'tmdb_api_results_False.json']"
            ]
          },
          "execution_count": 15,
          "metadata": {},
          "output_type": "execute_result"
        }
      ],
      "source": [
        "import os, time, json\n",
        "import tmdbsimple as tmdb\n",
        "FOLDER = \"Data/\"\n",
        "os.makedirs(FOLDER, exist_ok=True)\n",
        "os.listdir(FOLDER)"
      ]
    },
    {
      "cell_type": "code",
      "execution_count": null,
      "id": "26b5bebd",
      "metadata": {
        "id": "26b5bebd"
      },
      "outputs": [],
      "source": [
        "errors = []"
      ]
    },
    {
      "cell_type": "code",
      "execution_count": null,
      "id": "12ee636c",
      "metadata": {
        "id": "12ee636c"
      },
      "outputs": [],
      "source": [
        "YEARS_TO_GET = [2000,2005,2010,2015,2016,2017,2018,2019,2020]"
      ]
    },
    {
      "cell_type": "code",
      "execution_count": null,
      "id": "8b461ded",
      "metadata": {
        "id": "8b461ded",
        "outputId": "c519530f-0c72-4824-fe13-6fd3bb2d34a8"
      },
      "outputs": [
        {
          "data": {
            "text/html": [
              "<div>\n",
              "<style scoped>\n",
              "    .dataframe tbody tr th:only-of-type {\n",
              "        vertical-align: middle;\n",
              "    }\n",
              "\n",
              "    .dataframe tbody tr th {\n",
              "        vertical-align: top;\n",
              "    }\n",
              "\n",
              "    .dataframe thead th {\n",
              "        text-align: right;\n",
              "    }\n",
              "</style>\n",
              "<table border=\"1\" class=\"dataframe\">\n",
              "  <thead>\n",
              "    <tr style=\"text-align: right;\">\n",
              "      <th></th>\n",
              "      <th>tconst</th>\n",
              "      <th>titleType</th>\n",
              "      <th>primaryTitle</th>\n",
              "      <th>originalTitle</th>\n",
              "      <th>isAdult</th>\n",
              "      <th>startYear</th>\n",
              "      <th>endYear</th>\n",
              "      <th>runtimeMinutes</th>\n",
              "      <th>genres</th>\n",
              "    </tr>\n",
              "  </thead>\n",
              "  <tbody>\n",
              "    <tr>\n",
              "      <th>0</th>\n",
              "      <td>tt0035423</td>\n",
              "      <td>movie</td>\n",
              "      <td>Kate &amp; Leopold</td>\n",
              "      <td>Kate &amp; Leopold</td>\n",
              "      <td>0</td>\n",
              "      <td>2001.0</td>\n",
              "      <td>NaN</td>\n",
              "      <td>118</td>\n",
              "      <td>Comedy,Fantasy,Romance</td>\n",
              "    </tr>\n",
              "    <tr>\n",
              "      <th>1</th>\n",
              "      <td>tt0062336</td>\n",
              "      <td>movie</td>\n",
              "      <td>The Tango of the Widower and Its Distorting Mi...</td>\n",
              "      <td>El Tango del Viudo y Su Espejo Deformante</td>\n",
              "      <td>0</td>\n",
              "      <td>2020.0</td>\n",
              "      <td>NaN</td>\n",
              "      <td>70</td>\n",
              "      <td>Drama</td>\n",
              "    </tr>\n",
              "    <tr>\n",
              "      <th>2</th>\n",
              "      <td>tt0069049</td>\n",
              "      <td>movie</td>\n",
              "      <td>The Other Side of the Wind</td>\n",
              "      <td>The Other Side of the Wind</td>\n",
              "      <td>0</td>\n",
              "      <td>2018.0</td>\n",
              "      <td>NaN</td>\n",
              "      <td>122</td>\n",
              "      <td>Drama</td>\n",
              "    </tr>\n",
              "    <tr>\n",
              "      <th>3</th>\n",
              "      <td>tt0088751</td>\n",
              "      <td>movie</td>\n",
              "      <td>The Naked Monster</td>\n",
              "      <td>The Naked Monster</td>\n",
              "      <td>0</td>\n",
              "      <td>2005.0</td>\n",
              "      <td>NaN</td>\n",
              "      <td>100</td>\n",
              "      <td>Comedy,Horror,Sci-Fi</td>\n",
              "    </tr>\n",
              "    <tr>\n",
              "      <th>4</th>\n",
              "      <td>tt0096056</td>\n",
              "      <td>movie</td>\n",
              "      <td>Crime and Punishment</td>\n",
              "      <td>Crime and Punishment</td>\n",
              "      <td>0</td>\n",
              "      <td>2002.0</td>\n",
              "      <td>NaN</td>\n",
              "      <td>126</td>\n",
              "      <td>Drama</td>\n",
              "    </tr>\n",
              "  </tbody>\n",
              "</table>\n",
              "</div>"
            ],
            "text/plain": [
              "      tconst titleType                                       primaryTitle  \\\n",
              "0  tt0035423     movie                                     Kate & Leopold   \n",
              "1  tt0062336     movie  The Tango of the Widower and Its Distorting Mi...   \n",
              "2  tt0069049     movie                         The Other Side of the Wind   \n",
              "3  tt0088751     movie                                  The Naked Monster   \n",
              "4  tt0096056     movie                               Crime and Punishment   \n",
              "\n",
              "                               originalTitle  isAdult  startYear  endYear  \\\n",
              "0                             Kate & Leopold        0     2001.0      NaN   \n",
              "1  El Tango del Viudo y Su Espejo Deformante        0     2020.0      NaN   \n",
              "2                 The Other Side of the Wind        0     2018.0      NaN   \n",
              "3                          The Naked Monster        0     2005.0      NaN   \n",
              "4                       Crime and Punishment        0     2002.0      NaN   \n",
              "\n",
              "   runtimeMinutes                  genres  \n",
              "0             118  Comedy,Fantasy,Romance  \n",
              "1              70                   Drama  \n",
              "2             122                   Drama  \n",
              "3             100    Comedy,Horror,Sci-Fi  \n",
              "4             126                   Drama  "
            ]
          },
          "execution_count": 18,
          "metadata": {},
          "output_type": "execute_result"
        }
      ],
      "source": [
        "basics = pd.read_csv('Data/title_basics.csv.gz')\n",
        "\n",
        "basics.head()"
      ]
    },
    {
      "cell_type": "code",
      "execution_count": null,
      "id": "23c86575",
      "metadata": {
        "id": "23c86575"
      },
      "outputs": [],
      "source": [
        "def write_json(new_data, filename):\n",
        "    \"\"\"Appends a list of records (new_data) to a json file (filename).\n",
        "    Adapted from: https://www.geeksforgeeks.org/append-to-json-file-using-python/\"\"\"\n",
        "\n",
        "    with open(filename,'r+') as file:\n",
        "        # First we load existing data into a dict.\n",
        "        file_data = json.load(file)\n",
        "        ## Choose extend or append\n",
        "        if (type(new_data) == list) & (type(file_data) == list):\n",
        "            file_data.extend(new_data)\n",
        "        else:\n",
        "             file_data.append(new_data)\n",
        "        # Sets file's current position at offset.\n",
        "        file.seek(0)\n",
        "        # convert back to json.\n",
        "        json.dump(file_data, file)"
      ]
    },
    {
      "cell_type": "code",
      "execution_count": null,
      "id": "5b5b0a7a",
      "metadata": {
        "colab": {
          "referenced_widgets": [
            "b304abd050194ec9944783ce38cd5010",
            "c44ed1934aa94474a81c3fcf60740a6f",
            "2e5585d04daa46f2bca4314909ccece0"
          ]
        },
        "id": "5b5b0a7a",
        "outputId": "0f725bdb-00cc-46a7-cbaa-83c09dff9be2"
      },
      "outputs": [
        {
          "data": {
            "application/vnd.jupyter.widget-view+json": {
              "model_id": "b304abd050194ec9944783ce38cd5010",
              "version_major": 2,
              "version_minor": 0
            },
            "text/plain": [
              "YEARS:   0%|          | 0/9 [00:00<?, ?it/s]"
            ]
          },
          "metadata": {},
          "output_type": "display_data"
        },
        {
          "data": {
            "application/vnd.jupyter.widget-view+json": {
              "model_id": "c44ed1934aa94474a81c3fcf60740a6f",
              "version_major": 2,
              "version_minor": 0
            },
            "text/plain": [
              "Movies from 2000:   0%|          | 0/205 [00:00<?, ?it/s]"
            ]
          },
          "metadata": {},
          "output_type": "display_data"
        },
        {
          "data": {
            "application/vnd.jupyter.widget-view+json": {
              "model_id": "2e5585d04daa46f2bca4314909ccece0",
              "version_major": 2,
              "version_minor": 0
            },
            "text/plain": [
              "Movies from 2005:   0%|          | 0/1982 [00:00<?, ?it/s]"
            ]
          },
          "metadata": {},
          "output_type": "display_data"
        }
      ],
      "source": [
        "# Start of OUTER loop\n",
        "for YEAR in tqdm_notebook(YEARS_TO_GET, desc='YEARS', position=0):\n",
        "\n",
        "    #Defining the JSON file to store results for year\n",
        "    JSON_FILE = f'{FOLDER}tmdb_api_results_{YEAR}.json'\n",
        "\n",
        "    # Check if file exists\n",
        "    file_exists = os.path.isfile(JSON_FILE)\n",
        "\n",
        "    # If it does not exist: create it\n",
        "    if file_exists == False:\n",
        "    # save an empty dict with just \"imdb_id\" to the new json file.\n",
        "        with open(JSON_FILE,'w') as f:\n",
        "            json.dump([{'imdb_id':0}],f)\n",
        "\n",
        "\n",
        "    #Saving new year as the current df\n",
        "    df = basics.loc[ basics['startYear']==YEAR].copy()\n",
        "    # saving movie ids to list\n",
        "    movie_ids = df['tconst'].copy()\n",
        "\n",
        "    # Load existing data from json into a dataframe called \"previous_df\"\n",
        "    # Instead of previous_df=pd.read_json:\n",
        "    previous_df = pd.read_json(JSON_FILE)\n",
        "\n",
        "\n",
        "\n",
        "    # filter out any ids that are already in the JSON_FILE\n",
        "    movie_ids_to_get = movie_ids[~movie_ids.isin(previous_df['imdb_id'])]\n",
        "\n",
        "    #Get index and movie id from list\n",
        "    # INNER Loop\n",
        "    for movie_id in tqdm_notebook(movie_ids_to_get,\n",
        "                                  desc=f'Movies from {YEAR}',\n",
        "                                  position=1,\n",
        "                                  leave=True):\n",
        "        try:\n",
        "            # Retrieve then data for the movie id\n",
        "            temp = get_movie_with_rating(movie_id)\n",
        "            # Append/extend results to existing file using a pre-made function\n",
        "            write_json(temp,JSON_FILE)\n",
        "            # Short 20 ms sleep to prevent overwhelming server\n",
        "            time.sleep(0.02)\n",
        "\n",
        "        except Exception as e:\n",
        "            continue\n",
        "\n",
        "\n",
        "    final_year_df = pd.read_json(JSON_FILE)\n",
        "    final_year_df.to_csv(f\"{FOLDER}final_tmdb_data_{YEAR}.csv.gz\", compression=\"gzip\", index=False)\n",
        ""
      ]
    },
    {
      "cell_type": "code",
      "execution_count": null,
      "id": "2b842a06",
      "metadata": {
        "id": "2b842a06"
      },
      "outputs": [],
      "source": [
        "print(f\"- Total errors: {len(errors)}\")"
      ]
    },
    {
      "cell_type": "code",
      "execution_count": null,
      "id": "c37b8dd9",
      "metadata": {
        "id": "c37b8dd9"
      },
      "outputs": [],
      "source": []
    }
  ],
  "metadata": {
    "kernelspec": {
      "display_name": "Python (dojo-env)",
      "language": "python",
      "name": "dojo-env"
    },
    "language_info": {
      "codemirror_mode": {
        "name": "ipython",
        "version": 3
      },
      "file_extension": ".py",
      "mimetype": "text/x-python",
      "name": "python",
      "nbconvert_exporter": "python",
      "pygments_lexer": "ipython3",
      "version": "3.8.13"
    },
    "toc": {
      "base_numbering": 1,
      "nav_menu": {},
      "number_sections": true,
      "sideBar": true,
      "skip_h1_title": false,
      "title_cell": "Table of Contents",
      "title_sidebar": "Contents",
      "toc_cell": false,
      "toc_position": {},
      "toc_section_display": true,
      "toc_window_display": false
    },
    "colab": {
      "provenance": [],
      "include_colab_link": true
    }
  },
  "nbformat": 4,
  "nbformat_minor": 5
}
